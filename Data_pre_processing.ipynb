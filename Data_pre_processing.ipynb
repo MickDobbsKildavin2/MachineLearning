{
  "nbformat": 4,
  "nbformat_minor": 0,
  "metadata": {
    "colab": {
      "name": "Untitled2.ipynb",
      "provenance": [],
      "authorship_tag": "ABX9TyMzcIf8PKMNB9E1E6wecsd5",
      "include_colab_link": true
    },
    "kernelspec": {
      "name": "python3",
      "display_name": "Python 3"
    },
    "language_info": {
      "name": "python"
    }
  },
  "cells": [
    {
      "cell_type": "markdown",
      "metadata": {
        "id": "view-in-github",
        "colab_type": "text"
      },
      "source": [
        "<a href=\"https://colab.research.google.com/github/MickDobbsKildavin2/MachineLearning/blob/main/Data_pre_processing.ipynb\" target=\"_parent\"><img src=\"https://colab.research.google.com/assets/colab-badge.svg\" alt=\"Open In Colab\"/></a>"
      ]
    },
    {
      "cell_type": "code",
      "execution_count": 1,
      "metadata": {
        "id": "BQ2lOV3DZWeU"
      },
      "outputs": [],
      "source": [
        "import os                           # For file processing.\n",
        "from keras.models import Model\n",
        "#from keras.optimizers import Adam\n",
        "from keras.optimizers import adam_v2\n",
        "from keras.applications.vgg16 import VGG16, preprocess_input\n",
        "from keras.preprocessing.image import ImageDataGenerator\n",
        "from keras.callbacks import ModelCheckpoint, EarlyStopping\n",
        "from keras.layers import Dense, Dropout, Flatten\n",
        "from pathlib import Path\n",
        "import numpy as np"
      ]
    },
    {
      "cell_type": "code",
      "source": [
        "#Set directory values\n",
        "#split_size=0.1\n",
        "#print('split_size =',split_size)\n",
        "\n",
        "# Get the current directory.\n",
        "current_dir = os.getcwd()\n",
        "\n",
        "# the data will be written to a working directory.\n",
        "working_dir    = os.path.join(current_dir,'data')\n",
        "train_data_dir = os.path.join(working_dir,'Train')\n",
        "test_data_dir  = os.path.join(working_dir,'Test')\n",
        "meta_data_dir  = os.path.join(working_dir,'Meta')\n",
        "\n",
        "print('current_dir      = ',current_dir)\n",
        "print('working_dir      = ',working_dir)\n",
        "print('train_data_dir   = ',train_data_dir)\n",
        "print('test_data_dir    = ',test_data_dir)\n",
        "print('meta_data_dir    = ',meta_data_dir)\n",
        "meta_csv_file = (os.path.join(working_dir,'meta.csv'))\n",
        "print('meta_csv_file    = ',meta_csv_file)"
      ],
      "metadata": {
        "colab": {
          "base_uri": "https://localhost:8080/"
        },
        "id": "r783v0RnZlil",
        "outputId": "23561715-9d44-4b6d-eae0-798e68179426"
      },
      "execution_count": 2,
      "outputs": [
        {
          "output_type": "stream",
          "name": "stdout",
          "text": [
            "current_dir      =  /content\n",
            "working_dir      =  /content/data\n",
            "train_data_dir   =  /content/data/Train\n",
            "test_data_dir    =  /content/data/Test\n",
            "meta_data_dir    =  /content/data/Meta\n",
            "meta_csv_file    =  /content/data/meta.csv\n"
          ]
        }
      ]
    },
    {
      "cell_type": "markdown",
      "source": [
        "# New section"
      ],
      "metadata": {
        "id": "2Qn_TJsVqzm8"
      }
    },
    {
      "cell_type": "code",
      "source": [
        ""
      ],
      "metadata": {
        "id": "2q-z0ndSZlvV"
      },
      "execution_count": null,
      "outputs": []
    },
    {
      "cell_type": "code",
      "source": [
        ""
      ],
      "metadata": {
        "id": "uACwZUHWZl-6"
      },
      "execution_count": null,
      "outputs": []
    },
    {
      "cell_type": "code",
      "source": [
        ""
      ],
      "metadata": {
        "id": "k8rwOZ3kZmHF"
      },
      "execution_count": null,
      "outputs": []
    }
  ]
}